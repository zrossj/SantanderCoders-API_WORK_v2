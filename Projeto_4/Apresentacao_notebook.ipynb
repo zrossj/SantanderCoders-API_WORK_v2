{
 "cells": [
  {
   "cell_type": "markdown",
   "metadata": {},
   "source": [
    "<h1 align=\"center\"> TRABALHO - REST API - GRUPO 3</h1>"
   ]
  },
  {
   "cell_type": "markdown",
   "metadata": {},
   "source": [
    "<h2> INTRODUÇÃO </h2>\n",
    "\n",
    "<p> O objetivo do trabalho é de filtrar notícias disponíveis por uma API de acordo com um tema, salvando os resultados em uma base de dados/arquivo, tratar esses dados para a geração de relatórios e disponibilizar a consulta dos produtos gerados através de uma API utilizando o Flask. </p>\n",
    "<p>A base deve ser atualizada com requisições realizadas a cada hora na fonte dos artigos: https://newsapi.org/ </p>"
   ]
  },
  {
   "cell_type": "markdown",
   "metadata": {},
   "source": [
    "<h2> Metodologia </h2>"
   ]
  },
  {
   "cell_type": "markdown",
   "metadata": {},
   "source": [
    "<p> O trabalho proposto estruturou sua execução da seguinte forma:\n",
    "\n",
    "1. um script (\"requisicao.py\") para chamada da API 'newsapi' com os parâmetros de estudo, construindo a base de dados com arquivo .csv e atualizando\n",
    "o mesmo sempre que um novo artigo for encontrado, periodicamente;\n",
    "\n",
    "2. um script (\"selects.py\") para a criação dos 'relatórios', que serão consultados na API de consulta ao público;\n",
    "\n",
    "3. um script (\"flask_api.py\") para manter ativa uma REST API, com os endpoints de consulta dos dados gerais, dados pelo ID e relatórios;\n",
    "\n",
    "</p>"
   ]
  },
  {
   "cell_type": "markdown",
   "metadata": {},
   "source": [
    "<p> O trecho abaixo corresponde ao script de consulta da API e criação/atualização da base de dados. Foram criadas duas funções principais para isso.</p>\n"
   ]
  },
  {
   "cell_type": "code",
   "execution_count": null,
   "metadata": {},
   "outputs": [],
   "source": [
    "import pandas as pd\n",
    "import requests\n",
    "from datetime import datetime\n",
    "\n",
    "\n",
    "apiKey = \"df97b6ec3d3148c2a0f34e552e3f53af\"\n",
    "keyWords = \"bitcoin+blockchain+web3\"\n",
    "today = datetime.now().strftime('%Y-%m-%d')\n",
    "\n",
    "def busca_tema():\n",
    "\n",
    "    url = f'https://newsapi.org/v2/everything?q={keyWords}&from=2024-03-10&to={today}&language=en&sortBy=publishedAt&page=1&apiKey={apiKey}'\n",
    "    response = requests.get(url)\n",
    "\n",
    "    if response.status_code == 200:\n",
    "\n",
    "      results = response.json()\n",
    "      print(\"Requisição feita com sucesso!.\")\n",
    "    else:\n",
    "      return print(\"Problema na requisição.\")\n",
    "\n",
    "    return results\n",
    "\n",
    "\n",
    "def atualizar_csv():\n",
    "    df_novo = pd.json_normalize(busca_tema()['articles'])\n",
    "\n",
    "    try:\n",
    "        df_antigo = pd.read_csv('code.csv', index_col=0)\n",
    "        df_atualizado = pd.concat([df_antigo, df_novo]).drop_duplicates(subset=['publishedAt', 'author', 'title'], keep='last')\n",
    "        df_atualizado.sort_values('publishedAt').reset_index(drop=True).to_csv('code.csv', index=True)\n",
    "        print(f\"Arquivo CSV atualizado com sucesso em {datetime.now()}.\")\n",
    "\n",
    "    except FileNotFoundError:\n",
    "        df_novo.sort_values('publishedAt').reset_index(drop=True).to_csv('code.csv', index=True)\n",
    "        print(f\"Arquivo CSV criado com sucesso em {datetime.now()}.\")\n",
    "\n",
    "atualizar_csv()"
   ]
  },
  {
   "cell_type": "markdown",
   "metadata": {},
   "source": [
    "<h3> Script dos relatórios (consultas) </h3>"
   ]
  },
  {
   "cell_type": "markdown",
   "metadata": {},
   "source": [
    "<p> Para atender as demandas e possibilitar responder as perguntas dos usuários, os dados foram manipulados com pandas, permitindo a geraçao de relatórios diversos,\n",
    "os quais foram armazenados em arquivos .csv </p>\n",
    "\n",
    "O fluxograma para atingir o objetivo foi:\n",
    "1. consultar a base dos dados;\n",
    "2. manipular através da importação com pandas e utilizando o método 'groupby';\n",
    "3. armazenar  através de '.csv' para disponibilizar posteriormente na API;"
   ]
  },
  {
   "cell_type": "code",
   "execution_count": null,
   "metadata": {},
   "outputs": [],
   "source": [
    "import re\n",
    "import pandas as pd\n",
    "import requests\n",
    "from datetime import datetime\n",
    "\n",
    "df_historico = pd.read_csv(\"code.csv\", index_col = 0)\n",
    "\n",
    "\n",
    "\n",
    "# trasformacao;\n",
    "df_historico['data'] = df_historico.publishedAt.apply(lambda x: x[:10])\n",
    "\n",
    "\n",
    "# 4.1 - Quantidade de notícias por ano, mês e dia de publicação;\n",
    "noticias_por_data = df_historico.groupby(['data'], as_index=False).count()[['data', 'title']]\n",
    "noticias_por_data.columns = ['data', 'n_artigos']\n",
    "noticias_por_data\n",
    "\n",
    "\n",
    "#     - 4.2 - Quantidade de notícias por fonte e autor;\n",
    "noticias_por_fonte_autor = df_historico.groupby(['source.name', 'author'], as_index=False).size()#.reset_index(name='Quantidade')\n",
    "noticias_por_fonte_autor\n",
    "\n",
    "\n",
    "# 4.3 - Quantidade de aparições das 3 palavras-chave por ano, mês e dia de publicação definidas no item 2\n",
    "palavras_chave = ['bitcoin', 'blockchain', 'web3']\n",
    "for palavra in palavras_chave:\n",
    "    df_historico[palavra] = df_historico['title'].str.count(palavra, flags=re.IGNORECASE)\n",
    "\n",
    "aparicoes_palavras_chave = df_historico.groupby(['data'], as_index = False)[palavras_chave].sum()\n",
    "aparicoes_palavras_chave\n",
    "\n",
    "\n",
    "# Salvando as transformações em arquivo csv\n",
    "noticias_por_data.to_csv(\"noticias_por_data.csv\",sep=\",\", index = False)\n",
    "noticias_por_fonte_autor.to_csv(\"noticias_por_fonte_autor.csv\",sep=\",\",index=False)\n",
    "aparicoes_palavras_chave.to_csv(\"aparicoes_palavras_chave.csv\",sep=\",\",index=False)\n"
   ]
  },
  {
   "cell_type": "markdown",
   "metadata": {},
   "source": [
    "<p> Para permitir a consulta da base criada, foi utilizado a biblitoeca Flask, que permite inicializar uma REST API simples e funcional.</p>\n",
    "<p> Os diferentes endpoints da API direcionam para os arquivos salvos no projeto, permitindo a leitura dos dados gerais, dados por ID\n",
    "(através do método 'iloc' do pandas) e os diferentes relatórios no escopo do projeto ('flask_api.py'). </p>\n",
    "<p> A API permite que o usuário submeta um artigo caso deseje e que não exista na base de dados, utilizando 'POST' ('post.py'). </p>"
   ]
  },
  {
   "cell_type": "code",
   "execution_count": null,
   "metadata": {},
   "outputs": [],
   "source": [
    "# flask_api.py\n",
    "\n",
    "import pandas as pd\n",
    "import requests\n",
    "#import pyspark.pandas as ps \n",
    "from flask import Flask, jsonify, request, make_response\n",
    "\n",
    "\n",
    "# app.config[\"JSON_SORT_KEYS\"] = False\n",
    "\n",
    "app = Flask(\n",
    "    __name__\n",
    ")  # instância o método Flask com o nome do app igual ao nome do arquivo.py\n",
    "\n",
    "\n",
    "\n",
    "dados = pd.read_csv('./code.csv')\n",
    "noticias_por_data = pd.read_csv('./noticias_por_data.csv')\n",
    "noticias_por_fonte = pd.read_csv('./noticias_por_fonte_autor.csv')\n",
    "aparicoes_keyWords = pd.read_csv('./aparicoes_palavras_chave.csv')\n",
    "\n",
    "@app.route(\"/\", methods=[\"GET\"])  # define o endpoint da página e qual método ela aceita\n",
    "def homepage():\n",
    "\n",
    "    return jsonify({\"mensagem\": \"olá, você está na página principal\", \"pagina\": 1})\n",
    "\n",
    "@app.route(\"/dados\", methods=[\"GET\"])  # define o endpoint da página e qual método ela aceita\n",
    "def todos_dados():\n",
    "\n",
    "    \n",
    "    return jsonify(\n",
    "        dados.to_json())\n",
    "\n",
    "@app.route(\"/dados/<int:id>\", methods = [\"GET\"])\n",
    "def retorna_id(id):\n",
    "\n",
    "    try:\n",
    "        df_id = dados.loc[[id]].to_json()\n",
    "        return jsonify(\n",
    "            df_id)\n",
    "    except:\n",
    "        print(\"id não encontrado\")\n",
    "        return jsonify(\n",
    "            dados.to_json())\n",
    "\n",
    "@app.route(\"/dados/noticias_data\", methods=[\"GET\"])  # define o endpoint da página e qual método ela aceita\n",
    "def noticias_dada():\n",
    "\n",
    "    \n",
    "    return jsonify(\n",
    "        noticias_por_data.to_json())\n",
    "\n",
    "@app.route(\"/dados/noticias_fonte\", methods=[\"GET\"])  # define o endpoint da página e qual método ela aceita\n",
    "def noticias_fonte():\n",
    "\n",
    "    \n",
    "    return jsonify(\n",
    "        noticias_por_fonte.to_json())\n",
    "\n",
    "@app.route(\"/dados/aparicoes_palavraschaves\", methods=[\"GET\"])  # define o endpoint da página e qual método ela aceita\n",
    "def aparicoes_chaves():\n",
    "\n",
    "    \n",
    "    return jsonify(\n",
    "        aparicoes_keyWords.to_json())\n",
    "\n",
    "\n",
    "@app.route(\"/dados\", methods = [\"POST\"])\n",
    "def recebe_noticia():\n",
    "\n",
    "    novo_artigo = request.get_json()\n",
    "    df_novoArtigo = pd.DataFrame(novo_artigo, index = [0])\n",
    "\n",
    "    df = pd.read_csv('code.csv', index_col=0)\n",
    "\n",
    "    df = pd.concat([df, df_novoArtigo]\n",
    "            ).reset_index(drop = True)\n",
    "    \n",
    "\n",
    "    if df.duplicated(subset=['title', 'author']).sum() >=0:\n",
    "        print(\"Artigo ja existente no banco de dados!\")\n",
    "\n",
    "        return jsonify(novo_artigo)\n",
    "\n",
    "    # export.\n",
    "    else:\n",
    "        df.to_csv('code.csv')\n",
    "\n",
    "        return jsonify(df.to_json())\n",
    "\n",
    "##\n",
    "\n",
    "if __name__ == \"__main__\":\n",
    "    app.run(port = 5001, debug=True)"
   ]
  },
  {
   "cell_type": "code",
   "execution_count": null,
   "metadata": {},
   "outputs": [],
   "source": [
    "# post.py\n",
    "\n",
    "import requests\n",
    "import pandas as pd\n",
    "\n",
    "#inp == dados inputados pelo usuario para o POST;\n",
    "inp = {'author': 'Test1', 'title': 'Test', 'description': 'more Test',\n",
    "       'url': 'www.Test.com.br', 'urlToImage': 'htpps://Test', \n",
    "       'publishedAt': '2024-04-07 T19:00:00Z'}\n",
    "\n",
    "url = 'http://127.0.0.1:5001/dados'\n",
    "\n",
    "requests.post(url, json = inp)"
   ]
  },
  {
   "cell_type": "code",
   "execution_count": null,
   "metadata": {},
   "outputs": [],
   "source": [
    "# schedule with CRON?"
   ]
  },
  {
   "cell_type": "markdown",
   "metadata": {},
   "source": [
    "<h2> Resultados </h2>\n"
   ]
  },
  {
   "cell_type": "code",
   "execution_count": null,
   "metadata": {},
   "outputs": [],
   "source": [
    "## colar uns prints aqui sobre os resultados obtidos :)"
   ]
  }
 ],
 "metadata": {
  "kernelspec": {
   "display_name": "Python 3",
   "language": "python",
   "name": "python3"
  },
  "language_info": {
   "codemirror_mode": {
    "name": "ipython",
    "version": 3
   },
   "file_extension": ".py",
   "mimetype": "text/x-python",
   "name": "python",
   "nbconvert_exporter": "python",
   "pygments_lexer": "ipython3",
   "version": "3.11.5"
  }
 },
 "nbformat": 4,
 "nbformat_minor": 2
}
